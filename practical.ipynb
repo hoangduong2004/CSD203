{
 "cells": [
  {
   "cell_type": "code",
   "execution_count": 2,
   "metadata": {},
   "outputs": [
    {
     "data": {
      "text/plain": [
       "10"
      ]
     },
     "execution_count": 2,
     "metadata": {},
     "output_type": "execute_result"
    }
   ],
   "source": [
    "#1.   Write a recursive function that computes the sum of all numbers from 1 to n, where n is given as parameter. //return the sum 1+ 2+ 3+ ...+ n\n",
    "\n",
    "def sum(n):\n",
    "    if n == 0:\n",
    "        return 0\n",
    "    else:\n",
    "        return n + sum(n-1)\n",
    "n = int(input())\n",
    "sum(n)"
   ]
  },
  {
   "cell_type": "code",
   "execution_count": 13,
   "metadata": {
    "tags": []
   },
   "outputs": [
    {
     "name": "stdin",
     "output_type": "stream",
     "text": [
      "Nhap n:  3\n",
      "Nhap list:  2 3 4\n"
     ]
    },
    {
     "name": "stdout",
     "output_type": "stream",
     "text": [
      "2\n"
     ]
    }
   ],
   "source": [
    "#2.   Write a recursive function that finds and returns the minimum element in an array, where the array and its size are given as parameters. //return the minimum element in a[]\n",
    "\n",
    "n = int(input('Nhap n: '))\n",
    "a = list(map(int, input('Nhap list: ').split()))[:n]\n",
    "def findmin(a, n):\n",
    "    if n == 1:\n",
    "        return a[0]\n",
    "    else:\n",
    "        return min(a[n-1], findmin(a, n-1))\n",
    "print(findmin(a,n))"
   ]
  },
  {
   "cell_type": "code",
   "execution_count": 14,
   "metadata": {
    "tags": []
   },
   "outputs": [
    {
     "name": "stdin",
     "output_type": "stream",
     "text": [
      "Nhap n:  5\n",
      "Nhap list:  3 4 5 6 2\n"
     ]
    },
    {
     "name": "stdout",
     "output_type": "stream",
     "text": [
      "20\n"
     ]
    }
   ],
   "source": [
    "#3.   Write a recursive function that computes and returns the sum of all elements in an array, where the array and its size are given as parameters. //return the sum of all elements in a[]\n",
    "\n",
    "n = int(input('Nhap n: '))\n",
    "a = list(map(int, input('Nhap list: ').split()))[:n]\n",
    "def findsum(a, n):\n",
    "    if n == 0:\n",
    "        return 0\n",
    "    else:\n",
    "        return a[n-1] + findsum(a, n-1)\n",
    "print(findsum(a, n))"
   ]
  },
  {
   "cell_type": "code",
   "execution_count": 12,
   "metadata": {
    "tags": []
   },
   "outputs": [
    {
     "name": "stdin",
     "output_type": "stream",
     "text": [
      "Nhap n:  7\n",
      "Nhap list:  1 2 3 4 3 2 1\n"
     ]
    },
    {
     "data": {
      "text/plain": [
       "True"
      ]
     },
     "execution_count": 12,
     "metadata": {},
     "output_type": "execute_result"
    }
   ],
   "source": [
    "#4.   Write a recursive function that determines whether an array is a palindrome, where the array and its size are given as parameters. //returns 1 if a[] is a palindrome, 0 otherwise. The string a is palindrome if it is the same as its reverse.\n",
    "\n",
    "n = int(input('Nhap n: '))\n",
    "a = list(map(int, input('Nhap list: ').split()))[:n]\n",
    "def ispalindrome(a, n):\n",
    "    if n <= 1:\n",
    "        return True\n",
    "    elif a[0] != a[n-1]:\n",
    "        return False\n",
    "    else:\n",
    "        return ispalindrome(a[1:n-1], n-2)\n",
    "print(ispalindrome(a, n))"
   ]
  },
  {
   "cell_type": "code",
   "execution_count": 16,
   "metadata": {
    "tags": []
   },
   "outputs": [
    {
     "name": "stdin",
     "output_type": "stream",
     "text": [
      "Nhap n:  6\n",
      "Nhap list:  2 3 4 5 6 2\n",
      "Target:  6\n"
     ]
    },
    {
     "name": "stdout",
     "output_type": "stream",
     "text": [
      "Target is present at index:  4\n"
     ]
    }
   ],
   "source": [
    "#5.   Write a recursive function that searches for a target in a sorted array using binary search, where the array, its size and the target are given as parameters.\n",
    "\n",
    "n = int(input('Nhap n: '))\n",
    "a = list(map(int, input('Nhap list: ').split()))[:n]\n",
    "t = int(input('Target: '))\n",
    "def searchs(a, t, low, high):\n",
    "    if high >= low:\n",
    "        mid = (high + low) // 2\n",
    "        if a[mid] == t:\n",
    "            return mid\n",
    "        elif a[mid] > t:\n",
    "            return searchs(a, t, low, mid - 1)\n",
    "        else:\n",
    "            return searchs(a, t, mid + 1, high)\n",
    "    else:\n",
    "        return -1\n",
    "\n",
    "result = searchs(a, t, 0, n-1)\n",
    "\n",
    "if result != -1:\n",
    "    print(\"Target is present at index: \", str(result))\n",
    "else:\n",
    "    print(\"Target is not present\") "
   ]
  },
  {
   "cell_type": "code",
   "execution_count": 19,
   "metadata": {
    "tags": []
   },
   "outputs": [
    {
     "name": "stdout",
     "output_type": "stream",
     "text": [
      "GCD(m, n): \n"
     ]
    },
    {
     "name": "stdin",
     "output_type": "stream",
     "text": [
      "Nhap m:  36\n",
      "Nhap n:  24\n"
     ]
    },
    {
     "name": "stdout",
     "output_type": "stream",
     "text": [
      "12\n"
     ]
    }
   ],
   "source": [
    "#6.   Implement the Greatest Common Divisor algorithm as recursive method GCD. Use recursion. Do NOT use a loop.\n",
    "\n",
    "print('GCD(m, n): ')\n",
    "m = int(input('Nhap m: '))\n",
    "n = int(input('Nhap n: '))\n",
    "def GCD(m, n):\n",
    "    if n == 0:\n",
    "        return m\n",
    "    elif n > 0:\n",
    "        return GCD(n, m%n)\n",
    "    else:\n",
    "        return False\n",
    "print(GCD(m, n))"
   ]
  },
  {
   "cell_type": "code",
   "execution_count": 21,
   "metadata": {
    "tags": []
   },
   "outputs": [
    {
     "name": "stdout",
     "output_type": "stream",
     "text": [
      "power(x, n)\n"
     ]
    },
    {
     "name": "stdin",
     "output_type": "stream",
     "text": [
      "Nhap x:  4\n",
      "Nhap n:  3\n"
     ]
    },
    {
     "name": "stdout",
     "output_type": "stream",
     "text": [
      "64\n"
     ]
    }
   ],
   "source": [
    "#7.   Implement the power function recursively\n",
    "\n",
    "print('power(x, n)')\n",
    "x = int(input('Nhap x: '))\n",
    "n = int(input('Nhap n: '))\n",
    "def powers(x, n):\n",
    "    if n == 0:\n",
    "        return 1\n",
    "    else:\n",
    "        return x * powers(x, n-1)\n",
    "print(powers(x, n))"
   ]
  },
  {
   "cell_type": "code",
   "execution_count": 22,
   "metadata": {
    "tags": []
   },
   "outputs": [
    {
     "name": "stdout",
     "output_type": "stream",
     "text": [
      "fact(n)\n"
     ]
    },
    {
     "name": "stdin",
     "output_type": "stream",
     "text": [
      "Nhap n:  6\n"
     ]
    },
    {
     "name": "stdout",
     "output_type": "stream",
     "text": [
      "720\n"
     ]
    }
   ],
   "source": [
    "#8. Implement the factorial function recursively as fact\n",
    "\n",
    "print('fact(n)')\n",
    "n = int(input('Nhap n: '))\n",
    "def fact(n):\n",
    "    if n < 0:\n",
    "        return 'n phai la so nguyen duong'\n",
    "    elif n == 0 or n == 1:\n",
    "        return 1\n",
    "    else:\n",
    "        return n * fact(n - 1)\n",
    "print(fact(n))"
   ]
  },
  {
   "cell_type": "code",
   "execution_count": 24,
   "metadata": {
    "tags": []
   },
   "outputs": [
    {
     "name": "stdout",
     "output_type": "stream",
     "text": [
      "fib(n)\n"
     ]
    },
    {
     "name": "stdin",
     "output_type": "stream",
     "text": [
      "Nhap n:  6\n"
     ]
    },
    {
     "name": "stdout",
     "output_type": "stream",
     "text": [
      "8\n"
     ]
    }
   ],
   "source": [
    "#9.   Implement Fibonacci recursively as f\n",
    "\n",
    "print('fib(n)')\n",
    "n = int(input('Nhap index n: '))\n",
    "def fib(n):\n",
    "    if n <= 0:\n",
    "        return 'n phai la so nguyen duong'\n",
    "    elif n == 1 or n == 2:\n",
    "        return 1\n",
    "    else:\n",
    "        return fib(n - 1) + fib(n - 2)\n",
    "print(fib(n))"
   ]
  },
  {
   "cell_type": "code",
   "execution_count": 25,
   "metadata": {
    "tags": []
   },
   "outputs": [
    {
     "name": "stdout",
     "output_type": "stream",
     "text": [
      "addReciprocals(n)\n"
     ]
    },
    {
     "name": "stdin",
     "output_type": "stream",
     "text": [
      "Nhap n:  6\n"
     ]
    },
    {
     "name": "stdout",
     "output_type": "stream",
     "text": [
      "2.4499999999999997\n"
     ]
    }
   ],
   "source": [
    "#10. Write recursive method addReciprocals that takes an integer as a parameter andreturns the sum of the first n reciprocals.\n",
    "\n",
    "print('addReciprocals(n)')\n",
    "n = int(input('Nhap n: '))\n",
    "def addReciprocals(n):\n",
    "    if n <= 0:\n",
    "        return 'n phai la so nguyen duong'\n",
    "    elif n == 1:\n",
    "        return 1\n",
    "    else:\n",
    "        return 1/n + addReciprocals(n - 1)\n",
    "print(addReciprocals(n))"
   ]
  },
  {
   "cell_type": "code",
   "execution_count": 28,
   "metadata": {
    "tags": []
   },
   "outputs": [
    {
     "name": "stdin",
     "output_type": "stream",
     "text": [
      "Nhap n:  8\n",
      "Nhap k:  6\n"
     ]
    },
    {
     "name": "stdout",
     "output_type": "stream",
     "text": [
      "322\n"
     ]
    }
   ],
   "source": [
    "#11.  Stirling numbers: A stirling number of the first kind is defined as follows\n",
    "\n",
    "n = int(input('Nhap n: '))\n",
    "k = int(input('Nhap k: '))\n",
    "def stirling(n, k):\n",
    "    if n == k == 0:\n",
    "        return 1\n",
    "    elif n > 0 and k == 0:\n",
    "        return 0\n",
    "    elif n == 0 and k > 0:\n",
    "        return 0\n",
    "    else:\n",
    "        return stirling(n-1, k-1) - (n-1)*stirling(n-1, k)\n",
    "print(stirling(n, k))"
   ]
  },
  {
   "cell_type": "code",
   "execution_count": 30,
   "metadata": {
    "tags": []
   },
   "outputs": [
    {
     "name": "stdout",
     "output_type": "stream",
     "text": [
      "Chieu cao cua cay:  3\n"
     ]
    }
   ],
   "source": [
    "#12. Tree height. Given a labeled binary tree (represented by a pointer to a TreeNode) calculate its height.\n",
    "\n",
    "class TreeNode:\n",
    "    def __init__(self, n):\n",
    "        self.val = n\n",
    "        self.left = None\n",
    "        self.right = None\n",
    "\n",
    "def height(root):\n",
    "    if root is None:\n",
    "        return 0\n",
    "    else:\n",
    "        left_height = height(root.left)\n",
    "        right_height = height(root.right)\n",
    "        return max(left_height, right_height) + 1\n",
    "    \n",
    "root = TreeNode(1)\n",
    "root.left = TreeNode(3)\n",
    "root.right = TreeNode(5)\n",
    "root.left.left = TreeNode(7)\n",
    "root.left.right = TreeNode(9)\n",
    "\n",
    "print('Chieu cao cua cay: ', height(root))"
   ]
  },
  {
   "cell_type": "code",
   "execution_count": 31,
   "metadata": {
    "tags": []
   },
   "outputs": [
    {
     "name": "stdout",
     "output_type": "stream",
     "text": [
      "Size cua cay:  5\n"
     ]
    }
   ],
   "source": [
    "#13. Tree size. Given a labeled binary tree (represented by a pointer to a TreeNode) calculate its size.\n",
    "\n",
    "class TreeNode:\n",
    "    def __init__(self, n):\n",
    "        self.val = n\n",
    "        self.left = None\n",
    "        self.right = None\n",
    "\n",
    "def size(root):\n",
    "    if root is None:\n",
    "        return 0\n",
    "    else:\n",
    "        return 1 + size(root.left) + size(root.right)\n",
    "    \n",
    "\n",
    "root = TreeNode(1)\n",
    "root.left = TreeNode(3)\n",
    "root.right = TreeNode(5)\n",
    "root.left.left = TreeNode(7)\n",
    "root.left.right = TreeNode(9)\n",
    "\n",
    "print('Size cua cay: ', size(root))"
   ]
  },
  {
   "cell_type": "code",
   "execution_count": null,
   "metadata": {},
   "outputs": [],
   "source": []
  }
 ],
 "metadata": {
  "kernelspec": {
   "display_name": "Python 3 (ipykernel)",
   "language": "python",
   "name": "python3"
  },
  "language_info": {
   "codemirror_mode": {
    "name": "ipython",
    "version": 3
   },
   "file_extension": ".py",
   "mimetype": "text/x-python",
   "name": "python",
   "nbconvert_exporter": "python",
   "pygments_lexer": "ipython3",
   "version": "3.11.5"
  }
 },
 "nbformat": 4,
 "nbformat_minor": 4
}
