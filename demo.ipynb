{
 "cells": [
  {
   "cell_type": "code",
   "execution_count": 1,
   "id": "b8a9c0fe-e7eb-4142-a8f1-0dfc229236ab",
   "metadata": {
    "tags": []
   },
   "outputs": [
    {
     "name": "stdout",
     "output_type": "stream",
     "text": [
      "\n",
      "Name: Hoang Thai Duong\n",
      "ID: HE181802\n",
      "Class: AI1811\n",
      "\n"
     ]
    }
   ],
   "source": [
    "print('''\n",
    "Name: Hoang Thai Duong\n",
    "ID: HE181802\n",
    "Class: AI1811\n",
    "''')"
   ]
  },
  {
   "cell_type": "code",
   "execution_count": 40,
   "id": "c5c8399c-78b5-437a-b0d2-779287918092",
   "metadata": {
    "tags": []
   },
   "outputs": [
    {
     "name": "stdin",
     "output_type": "stream",
     "text": [
      "Enter values of the array:  4 2 3 4 5 6 4 4\n"
     ]
    },
    {
     "name": "stdout",
     "output_type": "stream",
     "text": [
      "The position of the element which has value nearest to the average of the array:0 3 6 7 "
     ]
    }
   ],
   "source": [
    "# Problem 1:\n",
    "n = list(map(int, input('Enter values of the array: ').split()))\n",
    "tong = 0\n",
    "for i in n:\n",
    "    tong += i\n",
    "aver = tong / len(n)\n",
    "min = int(abs(n[0] - aver))\n",
    "for i in range(1, len(n)):\n",
    "    if int(abs(n[i] - aver)) < min:\n",
    "        min = int(abs(n[i] - aver))\n",
    "print('The position of the element which has value nearest to the average of the array: ', end = '')\n",
    "for i in range(0, len(n)):\n",
    "    if int(abs(n[i] - aver)) == min:\n",
    "        print(i, end = ' ')"
   ]
  },
  {
   "cell_type": "code",
   "execution_count": 32,
   "id": "ef683d54-ddc1-41ec-803f-553851196c06",
   "metadata": {
    "tags": []
   },
   "outputs": [
    {
     "name": "stdin",
     "output_type": "stream",
     "text": [
      "Enter the grade of a subject in decimal system:  7\n"
     ]
    },
    {
     "name": "stdout",
     "output_type": "stream",
     "text": [
      "Alphabet grade:  B \n",
      " 4th grade:  3\n"
     ]
    }
   ],
   "source": [
    "# Problem 2:\n",
    "n = float(input('Enter the grade of a subject in decimal system: '))\n",
    "decimal = [0, 4.0, 5.5, 7.0, 8.5, 10]\n",
    "chu = ['F', 'D', 'C', 'B', 'A']\n",
    "he_4 = [0, 1, 2, 3, 4]\n",
    "if n >= 0 and n <= 10:    \n",
    "    for i in range (0,len(chu)) :\n",
    "        if decimal[i] <= n and n < decimal[i+1]:\n",
    "            print('Alphabet grade: ', chu[i],'\\n','4th grade: ',he_4[i])\n",
    "else: print('Grade is invalid')"
   ]
  },
  {
   "cell_type": "code",
   "execution_count": 16,
   "id": "b27ebd1a",
   "metadata": {},
   "outputs": [
    {
     "name": "stdin",
     "output_type": "stream",
     "text": [
      "Enter the values of the array:  2 2 2 3 2 \n"
     ]
    },
    {
     "name": "stdout",
     "output_type": "stream",
     "text": [
      "2 3 \n",
      "\n",
      "1: Exit\n",
      "2: Continue\n"
     ]
    },
    {
     "name": "stdin",
     "output_type": "stream",
     "text": [
      " e\n"
     ]
    },
    {
     "name": "stdout",
     "output_type": "stream",
     "text": [
      "Invalid. Please enter 1 to exit or 2 to continue.\n",
      "\n",
      "\n",
      "1: Exit\n",
      "2: Continue\n"
     ]
    },
    {
     "name": "stdin",
     "output_type": "stream",
     "text": [
      " 2\n",
      "Enter the values of the array:  1 2 3 4 5 6 1 2 3\n"
     ]
    },
    {
     "name": "stdout",
     "output_type": "stream",
     "text": [
      "1 2 3 4 5 6 \n",
      "\n",
      "1: Exit\n",
      "2: Continue\n"
     ]
    },
    {
     "name": "stdin",
     "output_type": "stream",
     "text": [
      " 1\n"
     ]
    }
   ],
   "source": [
    "# Problem 3:\n",
    "exit_program = False\n",
    "while True:\n",
    "    n = list(map(int, input('Enter the values of the array: ').split()))\n",
    "    values = []\n",
    "    for i in n:\n",
    "        if i not in values:\n",
    "            values.append(i)\n",
    "            print(i, end = ' ')\n",
    "        else:\n",
    "            continue\n",
    "    while True:\n",
    "        print('''\\n\\n1: Exit\\n2: Continue''')\n",
    "        a = input()\n",
    "        if a == '1':\n",
    "            exit_program = True\n",
    "            break\n",
    "        elif a == '2':\n",
    "            break\n",
    "        else: \n",
    "            print('Invalid. Please enter 1 to exit or 2 to continue.')\n",
    "    if exit_program == True:\n",
    "        break"
   ]
  },
  {
   "cell_type": "code",
   "execution_count": null,
   "id": "addb493c-8e2a-4c52-99cc-605da2909d2c",
   "metadata": {},
   "outputs": [],
   "source": []
  }
 ],
 "metadata": {
  "kernelspec": {
   "display_name": "Python 3 (ipykernel)",
   "language": "python",
   "name": "python3"
  },
  "language_info": {
   "codemirror_mode": {
    "name": "ipython",
    "version": 3
   },
   "file_extension": ".py",
   "mimetype": "text/x-python",
   "name": "python",
   "nbconvert_exporter": "python",
   "pygments_lexer": "ipython3",
   "version": "3.11.5"
  }
 },
 "nbformat": 4,
 "nbformat_minor": 5
}
